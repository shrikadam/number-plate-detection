{
 "cells": [
  {
   "cell_type": "markdown",
   "metadata": {},
   "source": [
    "### Automatic Vehicle Number Plate Detection"
   ]
  },
  {
   "cell_type": "code",
   "execution_count": null,
   "metadata": {},
   "outputs": [],
   "source": [
    "import os\n",
    "import time\n",
    "import numpy as np\n",
    "import matplotlib.pyplot as plt\n",
    "import cv2\n",
    "import torch\n",
    "from IPython.display import Image"
   ]
  },
  {
   "cell_type": "code",
   "execution_count": null,
   "metadata": {},
   "outputs": [],
   "source": [
    "!git clone https://github.com/ultralytics/yolov5"
   ]
  },
  {
   "cell_type": "code",
   "execution_count": null,
   "metadata": {},
   "outputs": [],
   "source": [
    "%cd yolov5\n",
    "%pip install setuptools --upgrade\n",
    "%pip install -r requirements.txt"
   ]
  },
  {
   "cell_type": "code",
   "execution_count": null,
   "metadata": {},
   "outputs": [],
   "source": [
    "img_path = \"VOC2007/JPEGImages/\"\n",
    "ann_path = \"VOC2007/Annotations/\"\n",
    "trainvalfile = \"VOC2007/ImageSets/Main/trainval.txt\"\n",
    "testfile = \"VOC2007/ImageSets/Main/test.txt\""
   ]
  },
  {
   "cell_type": "code",
   "execution_count": null,
   "metadata": {},
   "outputs": [],
   "source": [
    "from xml.etree import ElementTree\n",
    "lab_path = \"VOC2007/COCOLabels/\"\n",
    "try:\n",
    "    os.mkdir(lab)\n",
    "except Exception:\n",
    "    pass\n",
    "for f in os.listdir(ann_path):\n",
    "    tree = ElementTree.parse(os.path.join(ann_path, f))\n",
    "    ann = tree.getroot()\n",
    "    x1 = float(ann[6][4][0].text)\n",
    "    y1 = float(ann[6][4][1].text)\n",
    "    x2 = float(ann[6][4][2].text)\n",
    "    y2 = float(ann[6][4][3].text)\n",
    "    width = float(ann[4][0].text)\n",
    "    height = float(ann[4][1].text)\n",
    "    x = (x1+x2)/(2*width)\n",
    "    y = (y1+y2)/(2*height)\n",
    "    w = (x2-x1)/width\n",
    "    h = (y2-y1)/height\n",
    "    l = os.path.splitext(f)[0]\n",
    "    labels = open(\"VOC2007/COCOLabels/\"+l+\".txt\", 'w')\n",
    "    labels.write(\"0 {:.6f} {:.6f} {:.6f} {:.6f}\".format(x, y, w, h))\n",
    "    labels.close()"
   ]
  },
  {
   "cell_type": "code",
   "execution_count": null,
   "metadata": {},
   "outputs": [],
   "source": [
    "import shutil\n",
    "train_img = \"yolov5/data/number_plates_dataset/images/train\"\n",
    "val_img = \"yolov5/data/number_plates_dataset/images/val\"\n",
    "test_img = \"yolov5/data/number_plates_dataset/images/test\"\n",
    "train_lab = \"yolov5/data/number_plates_dataset/labels/train\"\n",
    "val_lab = \"yolov5/data/number_plates_dataset/labels/val\"\n",
    "try:\n",
    "    os.mkdir(train_img)\n",
    "    os.mkdir(val_img)\n",
    "    os.mkdir(test_img)\n",
    "    os.mkdir(train_lab)\n",
    "    os.mkdir(val_lab)\n",
    "except Exception:\n",
    "    pass\n",
    "trainvaltxt = open(trainvalfile, 'r')\n",
    "testtxt = open(testfile, 'r')\n",
    "trainvallines = trainvaltxt.read().split('\\n')\n",
    "testlines = testtxt.read().split('\\n')\n",
    "n_train = int(80*len(trainvallines)/100)\n",
    "n_val = int(len(trainvallines) - n_train)\n",
    "i = 0\n",
    "for f in trainvallines:\n",
    "    if(i<n_train):\n",
    "        shutil.copy(img_path+f+\".jpg\",train_img)\n",
    "        shutil.copy(lab_path+f+\".txt\",train_lab)\n",
    "    else:\n",
    "        shutil.copy(img_path+f+\".jpg\",val_img)\n",
    "        shutil.copy(lab_path+f+\".txt\",val_lab)\n",
    "    i += 1\n",
    "for f in testlines:\n",
    "    shutil.copy(img_path+f+\".jpg\",\"yolov5/data/number_plates_dataset/images/test\")"
   ]
  },
  {
   "cell_type": "code",
   "execution_count": null,
   "metadata": {},
   "outputs": [],
   "source": [
    "!python train.py --img 640 --batch 8 --epochs 3 --data number_plates.yaml --weights yolov5s.pt"
   ]
  }
 ],
 "metadata": {
  "hide_input": false,
  "kernelspec": {
   "display_name": "Python 3.7.7 64-bit ('venv': conda)",
   "language": "python",
   "name": "python37764bitvenvconda1175fc2705b043cba354bdb226332f11"
  },
  "language_info": {
   "codemirror_mode": {
    "name": "ipython",
    "version": 3
   },
   "file_extension": ".py",
   "mimetype": "text/x-python",
   "name": "python",
   "nbconvert_exporter": "python",
   "pygments_lexer": "ipython3",
   "version": "3.7.7"
  }
 },
 "nbformat": 4,
 "nbformat_minor": 4
}
